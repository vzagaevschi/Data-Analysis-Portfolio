{
 "cells": [
  {
   "cell_type": "markdown",
   "id": "324f74a4",
   "metadata": {},
   "source": [
    "<h1 align=center><font size = 5>Basic Data Exploring, Filtering and Visualizing Immigration Trends to Moldova</font></h1>"
   ]
  },
  {
   "cell_type": "markdown",
   "id": "80e5e19c",
   "metadata": {},
   "source": [
    "## Objectives\n",
    "  * Explore and prepare the data\n",
    "  * View the number of immigrants to Moldova in 2014-2021\n",
    "  * Plot a line graph of immigration from country that contributed the most to immigration to Moldova\n",
    "  * Plot the trend of the top 5 countries that contributed the most to immigration to Moldova"
   ]
  },
  {
   "cell_type": "markdown",
   "id": "20387c2f",
   "metadata": {},
   "source": [
    "The Dataset: Immigration to Moldova from 2014 to 2021 (Imigranti dupa tara de emigrare si scopul sosirii, 2014-2021])\n",
    "\n",
    "Dataset Source: [Populatia si procesele demografice: Imigranti dupa tara de emigrare si scopul sosirii, 2014-2021](https://statbank.statistica.md/PxWeb/pxweb/ro/20%20Populatia%20si%20procesele%20demografice/20%20Populatia%20si%20procesele%20demografice__POPrec__POP070/POP070100rcl.px/?rxid=b2ff27d7-0b96-43c9-934b-42e1a2a9a774).\n",
    "\n",
    "The dataset contains annual data on the flows of international immigrants as recorded by the countries of destination for period of 2014-2021. "
   ]
  },
  {
   "cell_type": "markdown",
   "id": "a8598a8b",
   "metadata": {},
   "source": [
    "## Downloading and Exploring Data"
   ]
  },
  {
   "cell_type": "code",
   "execution_count": 1,
   "id": "64a3c133",
   "metadata": {},
   "outputs": [],
   "source": [
    "# import modules\n",
    "\n",
    "import pandas as pd\n",
    "import matplotlib as mpl\n",
    "import matplotlib.pyplot as plt"
   ]
  },
  {
   "cell_type": "code",
   "execution_count": 2,
   "id": "de05cd95",
   "metadata": {},
   "outputs": [
    {
     "name": "stdout",
     "output_type": "stream",
     "text": [
      "Data has been read.\n"
     ]
    }
   ],
   "source": [
    "# Read worksheet from excel file, skiping footer\n",
    "\n",
    "df = pd.read_excel(\n",
    "    '../2_Data_Cleaning/moldova_immigration_2014_2021.xlsx',\n",
    "    sheet_name='Country immigration by years',\n",
    "    skipfooter=1)\n",
    "\n",
    "print('Data has been read.')"
   ]
  },
  {
   "cell_type": "code",
   "execution_count": 3,
   "id": "20ff5bca",
   "metadata": {},
   "outputs": [
    {
     "data": {
      "text/html": [
       "<div>\n",
       "<style scoped>\n",
       "    .dataframe tbody tr th:only-of-type {\n",
       "        vertical-align: middle;\n",
       "    }\n",
       "\n",
       "    .dataframe tbody tr th {\n",
       "        vertical-align: top;\n",
       "    }\n",
       "\n",
       "    .dataframe thead th {\n",
       "        text-align: right;\n",
       "    }\n",
       "</style>\n",
       "<table border=\"1\" class=\"dataframe\">\n",
       "  <thead>\n",
       "    <tr style=\"text-align: right;\">\n",
       "      <th></th>\n",
       "      <th>Country</th>\n",
       "      <th>2014</th>\n",
       "      <th>2015</th>\n",
       "      <th>2016</th>\n",
       "      <th>2017</th>\n",
       "      <th>2018</th>\n",
       "      <th>2019</th>\n",
       "      <th>2020</th>\n",
       "      <th>2021</th>\n",
       "    </tr>\n",
       "  </thead>\n",
       "  <tbody>\n",
       "    <tr>\n",
       "      <th>0</th>\n",
       "      <td>Afghanistan</td>\n",
       "      <td>1</td>\n",
       "      <td>1</td>\n",
       "      <td>0</td>\n",
       "      <td>2</td>\n",
       "      <td>0</td>\n",
       "      <td>5</td>\n",
       "      <td>0</td>\n",
       "      <td>0</td>\n",
       "    </tr>\n",
       "    <tr>\n",
       "      <th>1</th>\n",
       "      <td>South Africa</td>\n",
       "      <td>0</td>\n",
       "      <td>0</td>\n",
       "      <td>1</td>\n",
       "      <td>4</td>\n",
       "      <td>3</td>\n",
       "      <td>0</td>\n",
       "      <td>1</td>\n",
       "      <td>3</td>\n",
       "    </tr>\n",
       "    <tr>\n",
       "      <th>2</th>\n",
       "      <td>Albania</td>\n",
       "      <td>9</td>\n",
       "      <td>6</td>\n",
       "      <td>6</td>\n",
       "      <td>1</td>\n",
       "      <td>4</td>\n",
       "      <td>3</td>\n",
       "      <td>1</td>\n",
       "      <td>0</td>\n",
       "    </tr>\n",
       "    <tr>\n",
       "      <th>3</th>\n",
       "      <td>Algeria</td>\n",
       "      <td>1</td>\n",
       "      <td>2</td>\n",
       "      <td>1</td>\n",
       "      <td>3</td>\n",
       "      <td>1</td>\n",
       "      <td>2</td>\n",
       "      <td>1</td>\n",
       "      <td>4</td>\n",
       "    </tr>\n",
       "    <tr>\n",
       "      <th>4</th>\n",
       "      <td>Saudi Arabia</td>\n",
       "      <td>0</td>\n",
       "      <td>0</td>\n",
       "      <td>0</td>\n",
       "      <td>0</td>\n",
       "      <td>0</td>\n",
       "      <td>1</td>\n",
       "      <td>0</td>\n",
       "      <td>0</td>\n",
       "    </tr>\n",
       "  </tbody>\n",
       "</table>\n",
       "</div>"
      ],
      "text/plain": [
       "        Country  2014  2015  2016  2017  2018  2019  2020  2021\n",
       "0   Afghanistan     1     1     0     2     0     5     0     0\n",
       "1  South Africa     0     0     1     4     3     0     1     3\n",
       "2       Albania     9     6     6     1     4     3     1     0\n",
       "3       Algeria     1     2     1     3     1     2     1     4\n",
       "4  Saudi Arabia     0     0     0     0     0     1     0     0"
      ]
     },
     "execution_count": 3,
     "metadata": {},
     "output_type": "execute_result"
    }
   ],
   "source": [
    "# First 5 rows of dataframe\n",
    "\n",
    "df.head()"
   ]
  },
  {
   "cell_type": "code",
   "execution_count": 4,
   "id": "484f3f21",
   "metadata": {},
   "outputs": [
    {
     "data": {
      "text/html": [
       "<div>\n",
       "<style scoped>\n",
       "    .dataframe tbody tr th:only-of-type {\n",
       "        vertical-align: middle;\n",
       "    }\n",
       "\n",
       "    .dataframe tbody tr th {\n",
       "        vertical-align: top;\n",
       "    }\n",
       "\n",
       "    .dataframe thead th {\n",
       "        text-align: right;\n",
       "    }\n",
       "</style>\n",
       "<table border=\"1\" class=\"dataframe\">\n",
       "  <thead>\n",
       "    <tr style=\"text-align: right;\">\n",
       "      <th></th>\n",
       "      <th>Country</th>\n",
       "      <th>2014</th>\n",
       "      <th>2015</th>\n",
       "      <th>2016</th>\n",
       "      <th>2017</th>\n",
       "      <th>2018</th>\n",
       "      <th>2019</th>\n",
       "      <th>2020</th>\n",
       "      <th>2021</th>\n",
       "    </tr>\n",
       "  </thead>\n",
       "  <tbody>\n",
       "    <tr>\n",
       "      <th>121</th>\n",
       "      <td>Uzbekistan</td>\n",
       "      <td>22</td>\n",
       "      <td>37</td>\n",
       "      <td>24</td>\n",
       "      <td>27</td>\n",
       "      <td>41</td>\n",
       "      <td>204</td>\n",
       "      <td>58</td>\n",
       "      <td>117</td>\n",
       "    </tr>\n",
       "    <tr>\n",
       "      <th>122</th>\n",
       "      <td>Venezuela</td>\n",
       "      <td>0</td>\n",
       "      <td>0</td>\n",
       "      <td>1</td>\n",
       "      <td>0</td>\n",
       "      <td>0</td>\n",
       "      <td>1</td>\n",
       "      <td>0</td>\n",
       "      <td>1</td>\n",
       "    </tr>\n",
       "    <tr>\n",
       "      <th>123</th>\n",
       "      <td>Viet Nam</td>\n",
       "      <td>6</td>\n",
       "      <td>5</td>\n",
       "      <td>1</td>\n",
       "      <td>1</td>\n",
       "      <td>3</td>\n",
       "      <td>2</td>\n",
       "      <td>0</td>\n",
       "      <td>3</td>\n",
       "    </tr>\n",
       "    <tr>\n",
       "      <th>124</th>\n",
       "      <td>Yemen</td>\n",
       "      <td>1</td>\n",
       "      <td>1</td>\n",
       "      <td>0</td>\n",
       "      <td>1</td>\n",
       "      <td>1</td>\n",
       "      <td>0</td>\n",
       "      <td>0</td>\n",
       "      <td>0</td>\n",
       "    </tr>\n",
       "    <tr>\n",
       "      <th>125</th>\n",
       "      <td>Not defined</td>\n",
       "      <td>31</td>\n",
       "      <td>26</td>\n",
       "      <td>26</td>\n",
       "      <td>18</td>\n",
       "      <td>26</td>\n",
       "      <td>25</td>\n",
       "      <td>16</td>\n",
       "      <td>11</td>\n",
       "    </tr>\n",
       "  </tbody>\n",
       "</table>\n",
       "</div>"
      ],
      "text/plain": [
       "         Country  2014  2015  2016  2017  2018  2019  2020  2021\n",
       "121   Uzbekistan    22    37    24    27    41   204    58   117\n",
       "122    Venezuela     0     0     1     0     0     1     0     1\n",
       "123     Viet Nam     6     5     1     1     3     2     0     3\n",
       "124        Yemen     1     1     0     1     1     0     0     0\n",
       "125  Not defined    31    26    26    18    26    25    16    11"
      ]
     },
     "execution_count": 4,
     "metadata": {},
     "output_type": "execute_result"
    }
   ],
   "source": [
    "#  Last 5 rows of dataframe\n",
    "\n",
    "df.tail()"
   ]
  },
  {
   "cell_type": "code",
   "execution_count": 5,
   "id": "476b0827",
   "metadata": {},
   "outputs": [
    {
     "data": {
      "text/plain": [
       "Country    object\n",
       "2014        int64\n",
       "2015        int64\n",
       "2016        int64\n",
       "2017        int64\n",
       "2018        int64\n",
       "2019        int64\n",
       "2020        int64\n",
       "2021        int64\n",
       "dtype: object"
      ]
     },
     "execution_count": 5,
     "metadata": {},
     "output_type": "execute_result"
    }
   ],
   "source": [
    "# Datatypes of each column\n",
    "\n",
    "df.dtypes"
   ]
  },
  {
   "cell_type": "code",
   "execution_count": 6,
   "id": "529dfb44",
   "metadata": {
    "scrolled": true
   },
   "outputs": [
    {
     "data": {
      "text/plain": [
       "(126, 9)"
      ]
     },
     "execution_count": 6,
     "metadata": {},
     "output_type": "execute_result"
    }
   ],
   "source": [
    "# The number of rows and columns in dataframe\n",
    "\n",
    "df.shape"
   ]
  },
  {
   "cell_type": "code",
   "execution_count": 7,
   "id": "9018e1bf",
   "metadata": {},
   "outputs": [],
   "source": [
    "# Set index to first column\n",
    "\n",
    "df.set_index('Country', inplace=True)"
   ]
  },
  {
   "cell_type": "code",
   "execution_count": 8,
   "id": "e73ba277",
   "metadata": {},
   "outputs": [],
   "source": [
    "# Create totals column\n",
    "\n",
    "df['Total'] = df.sum(axis=1)"
   ]
  },
  {
   "cell_type": "code",
   "execution_count": 9,
   "id": "1bbc6415",
   "metadata": {},
   "outputs": [],
   "source": [
    "# Transfroming first row of years to string to avoid confusion  \n",
    "\n",
    "df.columns = list(map(str, df.columns))"
   ]
  },
  {
   "cell_type": "code",
   "execution_count": 10,
   "id": "ff274fed",
   "metadata": {},
   "outputs": [
    {
     "data": {
      "text/plain": [
       "['2014', '2015', '2016', '2017', '2018', '2019', '2020', '2021']"
      ]
     },
     "execution_count": 10,
     "metadata": {},
     "output_type": "execute_result"
    }
   ],
   "source": [
    "# Create years variable\n",
    "\n",
    "years = list(map(str, range(2014, 2022)))\n",
    "years"
   ]
  },
  {
   "cell_type": "code",
   "execution_count": 11,
   "id": "81e98498",
   "metadata": {},
   "outputs": [
    {
     "name": "stdout",
     "output_type": "stream",
     "text": [
      "data dimensions: (126, 9)\n",
      "Index(['2014', '2015', '2016', '2017', '2018', '2019', '2020', '2021',\n",
      "       'Total'],\n",
      "      dtype='object')\n"
     ]
    },
    {
     "data": {
      "text/html": [
       "<div>\n",
       "<style scoped>\n",
       "    .dataframe tbody tr th:only-of-type {\n",
       "        vertical-align: middle;\n",
       "    }\n",
       "\n",
       "    .dataframe tbody tr th {\n",
       "        vertical-align: top;\n",
       "    }\n",
       "\n",
       "    .dataframe thead th {\n",
       "        text-align: right;\n",
       "    }\n",
       "</style>\n",
       "<table border=\"1\" class=\"dataframe\">\n",
       "  <thead>\n",
       "    <tr style=\"text-align: right;\">\n",
       "      <th></th>\n",
       "      <th>2014</th>\n",
       "      <th>2015</th>\n",
       "      <th>2016</th>\n",
       "      <th>2017</th>\n",
       "      <th>2018</th>\n",
       "      <th>2019</th>\n",
       "      <th>2020</th>\n",
       "      <th>2021</th>\n",
       "      <th>Total</th>\n",
       "    </tr>\n",
       "    <tr>\n",
       "      <th>Country</th>\n",
       "      <th></th>\n",
       "      <th></th>\n",
       "      <th></th>\n",
       "      <th></th>\n",
       "      <th></th>\n",
       "      <th></th>\n",
       "      <th></th>\n",
       "      <th></th>\n",
       "      <th></th>\n",
       "    </tr>\n",
       "  </thead>\n",
       "  <tbody>\n",
       "    <tr>\n",
       "      <th>Afghanistan</th>\n",
       "      <td>1</td>\n",
       "      <td>1</td>\n",
       "      <td>0</td>\n",
       "      <td>2</td>\n",
       "      <td>0</td>\n",
       "      <td>5</td>\n",
       "      <td>0</td>\n",
       "      <td>0</td>\n",
       "      <td>9</td>\n",
       "    </tr>\n",
       "    <tr>\n",
       "      <th>South Africa</th>\n",
       "      <td>0</td>\n",
       "      <td>0</td>\n",
       "      <td>1</td>\n",
       "      <td>4</td>\n",
       "      <td>3</td>\n",
       "      <td>0</td>\n",
       "      <td>1</td>\n",
       "      <td>3</td>\n",
       "      <td>12</td>\n",
       "    </tr>\n",
       "    <tr>\n",
       "      <th>Albania</th>\n",
       "      <td>9</td>\n",
       "      <td>6</td>\n",
       "      <td>6</td>\n",
       "      <td>1</td>\n",
       "      <td>4</td>\n",
       "      <td>3</td>\n",
       "      <td>1</td>\n",
       "      <td>0</td>\n",
       "      <td>30</td>\n",
       "    </tr>\n",
       "    <tr>\n",
       "      <th>Algeria</th>\n",
       "      <td>1</td>\n",
       "      <td>2</td>\n",
       "      <td>1</td>\n",
       "      <td>3</td>\n",
       "      <td>1</td>\n",
       "      <td>2</td>\n",
       "      <td>1</td>\n",
       "      <td>4</td>\n",
       "      <td>15</td>\n",
       "    </tr>\n",
       "    <tr>\n",
       "      <th>Saudi Arabia</th>\n",
       "      <td>0</td>\n",
       "      <td>0</td>\n",
       "      <td>0</td>\n",
       "      <td>0</td>\n",
       "      <td>0</td>\n",
       "      <td>1</td>\n",
       "      <td>0</td>\n",
       "      <td>0</td>\n",
       "      <td>1</td>\n",
       "    </tr>\n",
       "  </tbody>\n",
       "</table>\n",
       "</div>"
      ],
      "text/plain": [
       "              2014  2015  2016  2017  2018  2019  2020  2021  Total\n",
       "Country                                                            \n",
       "Afghanistan      1     1     0     2     0     5     0     0      9\n",
       "South Africa     0     0     1     4     3     0     1     3     12\n",
       "Albania          9     6     6     1     4     3     1     0     30\n",
       "Algeria          1     2     1     3     1     2     1     4     15\n",
       "Saudi Arabia     0     0     0     0     0     1     0     0      1"
      ]
     },
     "execution_count": 11,
     "metadata": {},
     "output_type": "execute_result"
    }
   ],
   "source": [
    "# Print basic data about dataframe\n",
    "\n",
    "print('data dimensions:', df.shape)\n",
    "print(df.columns)\n",
    "df.head()"
   ]
  },
  {
   "cell_type": "code",
   "execution_count": 12,
   "id": "02f9751d",
   "metadata": {},
   "outputs": [
    {
     "data": {
      "text/html": [
       "<div>\n",
       "<style scoped>\n",
       "    .dataframe tbody tr th:only-of-type {\n",
       "        vertical-align: middle;\n",
       "    }\n",
       "\n",
       "    .dataframe tbody tr th {\n",
       "        vertical-align: top;\n",
       "    }\n",
       "\n",
       "    .dataframe thead th {\n",
       "        text-align: right;\n",
       "    }\n",
       "</style>\n",
       "<table border=\"1\" class=\"dataframe\">\n",
       "  <thead>\n",
       "    <tr style=\"text-align: right;\">\n",
       "      <th></th>\n",
       "      <th>2014</th>\n",
       "      <th>2015</th>\n",
       "      <th>2016</th>\n",
       "      <th>2017</th>\n",
       "      <th>2018</th>\n",
       "      <th>2019</th>\n",
       "      <th>2020</th>\n",
       "      <th>2021</th>\n",
       "      <th>Total</th>\n",
       "    </tr>\n",
       "  </thead>\n",
       "  <tbody>\n",
       "    <tr>\n",
       "      <th>count</th>\n",
       "      <td>126.000000</td>\n",
       "      <td>126.000000</td>\n",
       "      <td>126.000000</td>\n",
       "      <td>126.000000</td>\n",
       "      <td>126.000000</td>\n",
       "      <td>126.000000</td>\n",
       "      <td>126.000000</td>\n",
       "      <td>126.000000</td>\n",
       "      <td>126.000000</td>\n",
       "    </tr>\n",
       "    <tr>\n",
       "      <th>mean</th>\n",
       "      <td>33.214286</td>\n",
       "      <td>33.404762</td>\n",
       "      <td>32.373016</td>\n",
       "      <td>29.420635</td>\n",
       "      <td>33.515873</td>\n",
       "      <td>38.515873</td>\n",
       "      <td>22.801587</td>\n",
       "      <td>32.746032</td>\n",
       "      <td>255.992063</td>\n",
       "    </tr>\n",
       "    <tr>\n",
       "      <th>std</th>\n",
       "      <td>116.532544</td>\n",
       "      <td>116.230817</td>\n",
       "      <td>114.903698</td>\n",
       "      <td>104.418799</td>\n",
       "      <td>114.533889</td>\n",
       "      <td>135.631662</td>\n",
       "      <td>85.094302</td>\n",
       "      <td>116.865046</td>\n",
       "      <td>867.093762</td>\n",
       "    </tr>\n",
       "    <tr>\n",
       "      <th>min</th>\n",
       "      <td>0.000000</td>\n",
       "      <td>0.000000</td>\n",
       "      <td>0.000000</td>\n",
       "      <td>0.000000</td>\n",
       "      <td>0.000000</td>\n",
       "      <td>0.000000</td>\n",
       "      <td>0.000000</td>\n",
       "      <td>0.000000</td>\n",
       "      <td>0.000000</td>\n",
       "    </tr>\n",
       "    <tr>\n",
       "      <th>25%</th>\n",
       "      <td>0.000000</td>\n",
       "      <td>0.000000</td>\n",
       "      <td>0.000000</td>\n",
       "      <td>0.000000</td>\n",
       "      <td>0.000000</td>\n",
       "      <td>0.000000</td>\n",
       "      <td>0.000000</td>\n",
       "      <td>0.000000</td>\n",
       "      <td>5.500000</td>\n",
       "    </tr>\n",
       "    <tr>\n",
       "      <th>50%</th>\n",
       "      <td>3.000000</td>\n",
       "      <td>3.000000</td>\n",
       "      <td>2.000000</td>\n",
       "      <td>2.000000</td>\n",
       "      <td>3.000000</td>\n",
       "      <td>3.000000</td>\n",
       "      <td>2.000000</td>\n",
       "      <td>3.000000</td>\n",
       "      <td>26.500000</td>\n",
       "    </tr>\n",
       "    <tr>\n",
       "      <th>75%</th>\n",
       "      <td>14.750000</td>\n",
       "      <td>14.000000</td>\n",
       "      <td>12.750000</td>\n",
       "      <td>12.000000</td>\n",
       "      <td>12.000000</td>\n",
       "      <td>10.000000</td>\n",
       "      <td>7.000000</td>\n",
       "      <td>9.000000</td>\n",
       "      <td>94.500000</td>\n",
       "    </tr>\n",
       "    <tr>\n",
       "      <th>max</th>\n",
       "      <td>852.000000</td>\n",
       "      <td>754.000000</td>\n",
       "      <td>734.000000</td>\n",
       "      <td>685.000000</td>\n",
       "      <td>752.000000</td>\n",
       "      <td>919.000000</td>\n",
       "      <td>642.000000</td>\n",
       "      <td>797.000000</td>\n",
       "      <td>5787.000000</td>\n",
       "    </tr>\n",
       "  </tbody>\n",
       "</table>\n",
       "</div>"
      ],
      "text/plain": [
       "             2014        2015        2016        2017        2018        2019  \\\n",
       "count  126.000000  126.000000  126.000000  126.000000  126.000000  126.000000   \n",
       "mean    33.214286   33.404762   32.373016   29.420635   33.515873   38.515873   \n",
       "std    116.532544  116.230817  114.903698  104.418799  114.533889  135.631662   \n",
       "min      0.000000    0.000000    0.000000    0.000000    0.000000    0.000000   \n",
       "25%      0.000000    0.000000    0.000000    0.000000    0.000000    0.000000   \n",
       "50%      3.000000    3.000000    2.000000    2.000000    3.000000    3.000000   \n",
       "75%     14.750000   14.000000   12.750000   12.000000   12.000000   10.000000   \n",
       "max    852.000000  754.000000  734.000000  685.000000  752.000000  919.000000   \n",
       "\n",
       "             2020        2021        Total  \n",
       "count  126.000000  126.000000   126.000000  \n",
       "mean    22.801587   32.746032   255.992063  \n",
       "std     85.094302  116.865046   867.093762  \n",
       "min      0.000000    0.000000     0.000000  \n",
       "25%      0.000000    0.000000     5.500000  \n",
       "50%      2.000000    3.000000    26.500000  \n",
       "75%      7.000000    9.000000    94.500000  \n",
       "max    642.000000  797.000000  5787.000000  "
      ]
     },
     "execution_count": 12,
     "metadata": {},
     "output_type": "execute_result"
    }
   ],
   "source": [
    "# Descriptive statistics\n",
    "\n",
    "df.describe()"
   ]
  },
  {
   "cell_type": "code",
   "execution_count": 13,
   "id": "54c74520",
   "metadata": {},
   "outputs": [
    {
     "data": {
      "text/plain": [
       "2014     0\n",
       "2015     0\n",
       "2016     0\n",
       "2017     0\n",
       "2018     0\n",
       "2019     0\n",
       "2020     0\n",
       "2021     0\n",
       "Total    0\n",
       "dtype: int64"
      ]
     },
     "execution_count": 13,
     "metadata": {},
     "output_type": "execute_result"
    }
   ],
   "source": [
    "# Check if there are null data\n",
    "\n",
    "df.isnull().sum()"
   ]
  },
  {
   "cell_type": "markdown",
   "id": "9ac1a89d",
   "metadata": {},
   "source": [
    "# Visualizing Data With Line Plots"
   ]
  },
  {
   "cell_type": "code",
   "execution_count": 14,
   "id": "45d46f1f",
   "metadata": {},
   "outputs": [],
   "source": [
    "# Set plot style \n",
    "\n",
    "# mpl.style.use(['ggplot']) \n",
    "mpl.style.use(['fivethirtyeight']) "
   ]
  },
  {
   "cell_type": "code",
   "execution_count": 15,
   "id": "0a12a090",
   "metadata": {},
   "outputs": [
    {
     "data": {
      "text/html": [
       "<div>\n",
       "<style scoped>\n",
       "    .dataframe tbody tr th:only-of-type {\n",
       "        vertical-align: middle;\n",
       "    }\n",
       "\n",
       "    .dataframe tbody tr th {\n",
       "        vertical-align: top;\n",
       "    }\n",
       "\n",
       "    .dataframe thead th {\n",
       "        text-align: right;\n",
       "    }\n",
       "</style>\n",
       "<table border=\"1\" class=\"dataframe\">\n",
       "  <thead>\n",
       "    <tr style=\"text-align: right;\">\n",
       "      <th></th>\n",
       "      <th>2014</th>\n",
       "      <th>2015</th>\n",
       "      <th>2016</th>\n",
       "      <th>2017</th>\n",
       "      <th>2018</th>\n",
       "      <th>2019</th>\n",
       "      <th>2020</th>\n",
       "      <th>2021</th>\n",
       "      <th>Total</th>\n",
       "    </tr>\n",
       "    <tr>\n",
       "      <th>Country</th>\n",
       "      <th></th>\n",
       "      <th></th>\n",
       "      <th></th>\n",
       "      <th></th>\n",
       "      <th></th>\n",
       "      <th></th>\n",
       "      <th></th>\n",
       "      <th></th>\n",
       "      <th></th>\n",
       "    </tr>\n",
       "  </thead>\n",
       "  <tbody>\n",
       "    <tr>\n",
       "      <th>Ukraine</th>\n",
       "      <td>534</td>\n",
       "      <td>754</td>\n",
       "      <td>734</td>\n",
       "      <td>681</td>\n",
       "      <td>752</td>\n",
       "      <td>919</td>\n",
       "      <td>642</td>\n",
       "      <td>771</td>\n",
       "      <td>5787</td>\n",
       "    </tr>\n",
       "    <tr>\n",
       "      <th>Russia</th>\n",
       "      <td>516</td>\n",
       "      <td>567</td>\n",
       "      <td>705</td>\n",
       "      <td>685</td>\n",
       "      <td>683</td>\n",
       "      <td>739</td>\n",
       "      <td>426</td>\n",
       "      <td>538</td>\n",
       "      <td>4859</td>\n",
       "    </tr>\n",
       "    <tr>\n",
       "      <th>Romania</th>\n",
       "      <td>852</td>\n",
       "      <td>646</td>\n",
       "      <td>464</td>\n",
       "      <td>427</td>\n",
       "      <td>450</td>\n",
       "      <td>459</td>\n",
       "      <td>386</td>\n",
       "      <td>421</td>\n",
       "      <td>4105</td>\n",
       "    </tr>\n",
       "    <tr>\n",
       "      <th>Turkey</th>\n",
       "      <td>421</td>\n",
       "      <td>347</td>\n",
       "      <td>293</td>\n",
       "      <td>245</td>\n",
       "      <td>430</td>\n",
       "      <td>760</td>\n",
       "      <td>432</td>\n",
       "      <td>797</td>\n",
       "      <td>3725</td>\n",
       "    </tr>\n",
       "    <tr>\n",
       "      <th>Israel</th>\n",
       "      <td>525</td>\n",
       "      <td>548</td>\n",
       "      <td>594</td>\n",
       "      <td>456</td>\n",
       "      <td>489</td>\n",
       "      <td>83</td>\n",
       "      <td>42</td>\n",
       "      <td>102</td>\n",
       "      <td>2839</td>\n",
       "    </tr>\n",
       "  </tbody>\n",
       "</table>\n",
       "</div>"
      ],
      "text/plain": [
       "         2014  2015  2016  2017  2018  2019  2020  2021  Total\n",
       "Country                                                       \n",
       "Ukraine   534   754   734   681   752   919   642   771   5787\n",
       "Russia    516   567   705   685   683   739   426   538   4859\n",
       "Romania   852   646   464   427   450   459   386   421   4105\n",
       "Turkey    421   347   293   245   430   760   432   797   3725\n",
       "Israel    525   548   594   456   489    83    42   102   2839"
      ]
     },
     "execution_count": 15,
     "metadata": {},
     "output_type": "execute_result"
    }
   ],
   "source": [
    "# Sort countries by total immigration to Moldova 2014-2021\n",
    "\n",
    "df.sort_values(by='Total', ascending=False, axis=0, inplace=True)\n",
    "df.head(5)"
   ]
  },
  {
   "cell_type": "code",
   "execution_count": 16,
   "id": "fcb55775",
   "metadata": {},
   "outputs": [
    {
     "data": {
      "text/plain": [
       "'Ukraine'"
      ]
     },
     "execution_count": 16,
     "metadata": {},
     "output_type": "execute_result"
    }
   ],
   "source": [
    "# Country with most total immigration to Moldova\n",
    "\n",
    "df.index[0]"
   ]
  },
  {
   "cell_type": "code",
   "execution_count": 17,
   "id": "859dd1de",
   "metadata": {},
   "outputs": [
    {
     "data": {
      "text/plain": [
       "['Turkey', 'Ukraine', 'Russia', 'Romania', 'India']"
      ]
     },
     "execution_count": 17,
     "metadata": {},
     "output_type": "execute_result"
    }
   ],
   "source": [
    "# Select 5 countries with most immigration to Moldova in last year (2021)\n",
    "\n",
    "df_2021 = df.sort_values(by=['2021'], ascending=False, axis=0)\n",
    "\n",
    "df_2021.index[:5].values.tolist()"
   ]
  },
  {
   "cell_type": "code",
   "execution_count": 18,
   "id": "df8223b2",
   "metadata": {},
   "outputs": [
    {
     "name": "stdout",
     "output_type": "stream",
     "text": [
      "2014      534\n",
      "2015      754\n",
      "2016      734\n",
      "2017      681\n",
      "2018      752\n",
      "2019      919\n",
      "2020      642\n",
      "2021      771\n",
      "Total    5787\n",
      "Name: Ukraine, dtype: int64\n"
     ]
    }
   ],
   "source": [
    "# Viewing the number of immigrants from Ukraine for 2014-2021\n",
    "\n",
    "print(df.loc['Ukraine'])"
   ]
  },
  {
   "cell_type": "code",
   "execution_count": 19,
   "id": "1654ff79",
   "metadata": {},
   "outputs": [
    {
     "data": {
      "text/plain": [
       "2014    534\n",
       "2015    754\n",
       "2016    734\n",
       "2017    681\n",
       "2018    752\n",
       "Name: Ukraine, dtype: int64"
      ]
     },
     "execution_count": 19,
     "metadata": {},
     "output_type": "execute_result"
    }
   ],
   "source": [
    "# Create dataframe only for Ukraine data\n",
    "# using years variable to exclude the 'Total' column\n",
    "\n",
    "ukraine = df.loc['Ukraine', years] \n",
    "ukraine.head()"
   ]
  },
  {
   "cell_type": "code",
   "execution_count": 20,
   "id": "433f205d",
   "metadata": {},
   "outputs": [
    {
     "data": {
      "image/png": "[encoded data removed]",
      "text/plain": [
       "<Figure size 432x288 with 1 Axes>"
      ]
     },
     "metadata": {
      "needs_background": "light"
     },
     "output_type": "display_data"
    }
   ],
   "source": [
    "# Plotting a line graph of immigration from Ukraine\n",
    "\n",
    "ukraine.plot(kind='line')\n",
    "\n",
    "plt.title('Immigration from Ukraine')\n",
    "plt.ylabel('Number of Immigrants')\n",
    "plt.xlabel('Years')\n",
    "\n",
    "plt.show() "
   ]
  },
  {
   "cell_type": "code",
   "execution_count": 21,
   "id": "292e38f0",
   "metadata": {},
   "outputs": [
    {
     "data": {
      "image/png": "[encoded data removed]",
      "text/plain": [
       "<Figure size 1008x576 with 1 Axes>"
      ]
     },
     "metadata": {
      "needs_background": "light"
     },
     "output_type": "display_data"
    }
   ],
   "source": [
    "# Comparing the trend of top 5 countries that contributed the most to immigration to Moldova\n",
    "\n",
    "# Create dataframe for top 5 entries\n",
    "df_top5 = df.head(5)\n",
    "\n",
    "# Transposing the dataframe\n",
    "df_top5 = df_top5[years].transpose() \n",
    "\n",
    "# Changing index values of df_top5 to type integer for plotting\n",
    "df_top5.index = df_top5.index.map(int) \n",
    "\n",
    "#Plotting the dataframe\n",
    "df_top5.plot(kind='line', figsize=(14, 8))\n",
    "\n",
    "plt.title('Immigration Trend to Moldova of Top 5 Countries')\n",
    "plt.ylabel('Number of Immigrants')\n",
    "plt.xlabel('Years')\n",
    "\n",
    "plt.show()"
   ]
  },
  {
   "cell_type": "code",
   "execution_count": null,
   "id": "b348984f",
   "metadata": {},
   "outputs": [],
   "source": []
  }
 ],
 "metadata": {
  "kernelspec": {
   "display_name": "Python 3 (ipykernel)",
   "language": "python",
   "name": "python3"
  },
  "language_info": {
   "codemirror_mode": {
    "name": "ipython",
    "version": 3
   },
   "file_extension": ".py",
   "mimetype": "text/x-python",
   "name": "python",
   "nbconvert_exporter": "python",
   "pygments_lexer": "ipython3",
   "version": "3.10.2"
  }
 },
 "nbformat": 4,
 "nbformat_minor": 5
}
